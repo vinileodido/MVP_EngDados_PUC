{
 "cells": [
  {
   "cell_type": "code",
   "execution_count": 0,
   "metadata": {
    "application/vnd.databricks.v1+cell": {
     "cellMetadata": {
      "byteLimit": 2048000,
      "rowLimit": 10000
     },
     "inputWidgets": {},
     "nuid": "0d892825-9262-4719-aeca-fafb6cb744d8",
     "showTitle": false,
     "tableResultSettingsMap": {},
     "title": ""
    }
   },
   "outputs": [
    {
     "output_type": "stream",
     "name": "stdout",
     "output_type": "stream",
     "text": [
      "Python interpreter will be restarted.\nCollecting polars==1.0.0\n  Downloading polars-1.0.0-cp38-abi3-manylinux_2_17_x86_64.manylinux2014_x86_64.whl (31.0 MB)\nInstalling collected packages: polars\nSuccessfully installed polars-1.0.0\nPython interpreter will be restarted.\nPython interpreter will be restarted.\nCollecting duckdb==1.2.1\n  Downloading duckdb-1.2.1-cp39-cp39-manylinux_2_17_x86_64.manylinux2014_x86_64.whl (20.2 MB)\nInstalling collected packages: duckdb\nSuccessfully installed duckdb-1.2.1\nPython interpreter will be restarted.\nPython interpreter will be restarted.\nCollecting odfpy\n  Downloading odfpy-1.4.1.tar.gz (717 kB)\nRequirement already satisfied: defusedxml in /databricks/python3/lib/python3.9/site-packages (from odfpy) (0.7.1)\nBuilding wheels for collected packages: odfpy\n  Building wheel for odfpy (setup.py): started\n  Building wheel for odfpy (setup.py): finished with status 'done'\n  Created wheel for odfpy: filename=odfpy-1.4.1-py2.py3-none-any.whl size=160693 sha256=e682041b3659ebdd2d9e834af52190de12ece0fef4a3b798e04ed99381237e89\n  Stored in directory: /root/.cache/pip/wheels/20/ff/69/1b3f423ffe400b87afa368c70b43d2b5cd3bfb9ac8a613ba5b\nSuccessfully built odfpy\nInstalling collected packages: odfpy\nSuccessfully installed odfpy-1.4.1\nPython interpreter will be restarted.\n"
     ]
    }
   ],
   "source": [
    "%pip install polars==1.0.0\n",
    "%pip install duckdb==1.2.1\n",
    "%pip install odfpy"
   ]
  },
  {
   "cell_type": "markdown",
   "metadata": {
    "application/vnd.databricks.v1+cell": {
     "cellMetadata": {
      "byteLimit": 2048000,
      "rowLimit": 10000
     },
     "inputWidgets": {},
     "nuid": "0457dd36-60a6-46a9-92dc-ccc1cc62ff89",
     "showTitle": false,
     "tableResultSettingsMap": {},
     "title": ""
    }
   },
   "source": [
    "Configurações iniciais de módulos, diretórios e URLs com os dados que deverão ser coletados para posterior rotina de dados.\n",
    "\n",
    "Os dados serão utilizados de repositórios públicos da **Anatel** e **IBGE**"
   ]
  },
  {
   "cell_type": "code",
   "execution_count": 0,
   "metadata": {
    "application/vnd.databricks.v1+cell": {
     "cellMetadata": {
      "byteLimit": 2048000,
      "rowLimit": 10000
     },
     "inputWidgets": {},
     "nuid": "87a85adf-c2ca-4a48-bdd2-22ca71ad25ad",
     "showTitle": false,
     "tableResultSettingsMap": {},
     "title": ""
    }
   },
   "outputs": [
    {
     "output_type": "display_data",
     "data": {
      "application/vnd.databricks.v1+bamboolib_hint": "{\"pd.DataFrames\": [], \"version\": \"0.0.1\"}",
      "text/plain": []
     },
     "metadata": {},
     "output_type": "display_data"
    }
   ],
   "source": [
    "import polars as pl\n",
    "import pandas as pd\n",
    "import duckdb as db\n",
    "from duckdb.typing import *\n",
    "import os, shutil, sys\n",
    "from pathlib import Path \n",
    "from zipfile import ZipFile\n",
    "import subprocess as sub\n",
    "import numpy as np\n",
    "from datetime import *\n",
    "from dateutil.relativedelta import relativedelta\n",
    "import unicodedata\n",
    "import re\n",
    "\n",
    "import requests\n",
    "from requests.packages.urllib3.exceptions import InsecureRequestWarning\n",
    "requests.packages.urllib3.disable_warnings(InsecureRequestWarning)\n",
    "\n",
    "from requests.adapters import HTTPAdapter\n",
    "from requests.packages.urllib3.util.retry import Retry\n",
    "\n",
    "\n",
    "STG_PATH = '/_temp'\n",
    "DATABASE = os.path.join(STG_PATH, 'database')\n",
    "TMP_FILES = os.path.join(STG_PATH, 'tmp_files')\n",
    "\n",
    "if not os.path.exists(STG_PATH):\n",
    "    os.mkdir(STG_PATH)\n",
    "\n",
    "URL_RQUAL_IND = 'https://www.anatel.gov.br/dadosabertos/paineis_de_dados/qualidade/indicadores_rqual.zip'\n",
    "URL_ESTACOES_SMP = 'https://www.anatel.gov.br/dadosabertos/paineis_de_dados/outorga_e_licenciamento/estacoes_smp.zip'\n",
    "URL_IBGE_MUNICIPIOS = 'https://geoftp.ibge.gov.br/organizacao_do_territorio/estrutura_territorial/divisao_territorial/2023/DTB_2023.zip'\n",
    "URL_ANATEL_AREAS_LOCAIS = 'https://www.anatel.gov.br/dadosabertos/paineis_de_dados/areastarifarias/areaslocais.zip'"
   ]
  },
  {
   "cell_type": "markdown",
   "metadata": {
    "application/vnd.databricks.v1+cell": {
     "cellMetadata": {
      "byteLimit": 2048000,
      "rowLimit": 10000
     },
     "inputWidgets": {},
     "nuid": "a1ff730e-25d8-429f-88a5-e0ac2e73dc09",
     "showTitle": false,
     "tableResultSettingsMap": {},
     "title": ""
    }
   },
   "source": [
    "Funções auxiliares que serão utilizadas para ajudar na normalização e transformação dos dados."
   ]
  },
  {
   "cell_type": "code",
   "execution_count": 0,
   "metadata": {
    "application/vnd.databricks.v1+cell": {
     "cellMetadata": {
      "byteLimit": 2048000,
      "rowLimit": 10000
     },
     "inputWidgets": {},
     "nuid": "67be0d4c-cc24-444d-94f2-abe74e92043d",
     "showTitle": false,
     "tableResultSettingsMap": {},
     "title": ""
    }
   },
   "outputs": [],
   "source": [
    "#Leitura do valor em Bytes para \"HumanReadable\"\n",
    "def sizeof_fmt(num, suffix=\"B\"):\n",
    "    for unit in (\"\", \"Ki\", \"Mi\", \"Gi\", \"Ti\", \"Pi\", \"Ei\", \"Zi\"):\n",
    "        if abs(num) < 1024.0:\n",
    "            return f\"{num:3.1f}{unit}{suffix}\"\n",
    "        num /= 1024.0\n",
    "    return f\"{num:.1f}Yi{suffix}\"\n",
    "\n",
    "#Coleta Dados URL\n",
    "def get_file_url(TMP_FILES, URL_NAME, proxy=False):\n",
    "    name_file = os.path.basename(URL_NAME)\n",
    "    file_path = os.path.join(TMP_FILES,name_file)\n",
    "    r = requests.get(URL_NAME, stream=True, verify=False, proxies=(proxy_dict if proxy else {}))\n",
    "    if r.ok:\n",
    "        print(\"saving to\", os.path.abspath(file_path))\n",
    "        with open(file_path, 'wb') as f:\n",
    "            for chunk in r.iter_content(chunk_size=1024 * 8):\n",
    "                if chunk:\n",
    "                    f.write(chunk)\n",
    "                    f.flush()\n",
    "                    os.fsync(f.fileno())\n",
    "    else:  # HTTP status code 4XX/5XX\n",
    "        print(\"Download failed: status code {}\\n{}\".format(r.status_code, r.text))\n",
    "\n",
    "\n",
    "# Funções auxiliares para limpar nomes de colunas\n",
    "def remove_accents(text):\n",
    "    return unicodedata.normalize('NFKD', text).encode('ASCII', 'ignore').decode('ASCII')\n",
    "\n",
    "def only_alphanum(text):\n",
    "    return re.sub(r'[^a-zA-Z0-9 ]', ' ', text)\n",
    "\n",
    "def non_alphanum_underscore(text):\n",
    "    return re.sub(r'\\s+', '_', text.strip())\n",
    "\n",
    "def dashes2underscore(text):\n",
    "    return re.sub(r'[-]', '_', text.strip())\n",
    "\n",
    "\n",
    "for v_paths in [DATABASE, TMP_FILES]:\n",
    "    if os.path.exists(v_paths):\n",
    "        shutil.rmtree(v_paths)\n",
    "        os.mkdir(v_paths)\n",
    "    else:\n",
    "        os.mkdir(v_paths)\n",
    "\n",
    "#definição do apontamento e diretório onde serão armazenados o metadados do duckdb\n",
    "Path(DATABASE).mkdir(parents=True, exist_ok=True)\n",
    "db_file_path = os.path.join(DATABASE, \"db_portalanatel_ind_rqual.duckdb\")"
   ]
  },
  {
   "cell_type": "markdown",
   "metadata": {
    "application/vnd.databricks.v1+cell": {
     "cellMetadata": {
      "byteLimit": 2048000,
      "rowLimit": 10000
     },
     "inputWidgets": {},
     "nuid": "3a182228-67da-448c-8b2d-8c9292c1a155",
     "showTitle": false,
     "tableResultSettingsMap": {},
     "title": ""
    }
   },
   "source": [
    "Obtendo os dados pelas suas respectivas URLs de acesso"
   ]
  },
  {
   "cell_type": "code",
   "execution_count": 0,
   "metadata": {
    "application/vnd.databricks.v1+cell": {
     "cellMetadata": {
      "byteLimit": 2048000,
      "rowLimit": 10000
     },
     "inputWidgets": {},
     "nuid": "a3332b2c-c558-4094-bea9-46002cde52c6",
     "showTitle": false,
     "tableResultSettingsMap": {},
     "title": ""
    }
   },
   "outputs": [
    {
     "output_type": "stream",
     "name": "stdout",
     "output_type": "stream",
     "text": [
      "saving to /_temp/tmp_files/indicadores_rqual.zip\nsaving to /_temp/tmp_files/estacoes_smp.zip\nsaving to /_temp/tmp_files/DTB_2023.zip\nsaving to /_temp/tmp_files/areaslocais.zip\n"
     ]
    }
   ],
   "source": [
    "get_file_url(TMP_FILES, URL_RQUAL_IND)\n",
    "get_file_url(TMP_FILES, URL_ESTACOES_SMP)\n",
    "get_file_url(TMP_FILES, URL_IBGE_MUNICIPIOS)\n",
    "get_file_url(TMP_FILES, URL_ANATEL_AREAS_LOCAIS)"
   ]
  },
  {
   "cell_type": "markdown",
   "metadata": {
    "application/vnd.databricks.v1+cell": {
     "cellMetadata": {
      "byteLimit": 2048000,
      "rowLimit": 10000
     },
     "inputWidgets": {},
     "nuid": "31cf5562-9a71-4631-93ff-82e7cf7480cd",
     "showTitle": false,
     "tableResultSettingsMap": {},
     "title": ""
    }
   },
   "source": [
    "Transformação e pré-processamento dos dados de múnicipios brasileiros obtidos pelo **IBGE**"
   ]
  },
  {
   "cell_type": "code",
   "execution_count": 0,
   "metadata": {
    "application/vnd.databricks.v1+cell": {
     "cellMetadata": {
      "byteLimit": 2048000,
      "rowLimit": 10000
     },
     "inputWidgets": {},
     "nuid": "bce1ca60-5a95-4777-a5f1-d3220cee14ff",
     "showTitle": false,
     "tableResultSettingsMap": {},
     "title": ""
    }
   },
   "outputs": [],
   "source": [
    "#Arquivos Base Municípios IBGE\n",
    "filename_ibge = os.path.join(TMP_FILES,os.path.basename(URL_IBGE_MUNICIPIOS))\n",
    "with ZipFile(filename_ibge, 'r') as zip_ref:\n",
    "    source = zip_ref.open('DTB_2023/RELATORIO_DTB_BRASIL_MUNICIPIO.ods')\n",
    "    target = open(os.path.join(TMP_FILES, 'RELATORIO_DTB_BRASIL_MUNICIPIO.ods'), \"wb\")\n",
    "    with source, target:\n",
    "            shutil.copyfileobj(source, target)\n",
    "df_dtb_municipio = pd.read_excel(os.path.join(TMP_FILES,\"RELATORIO_DTB_BRASIL_MUNICIPIO.ods\"), skiprows=6)\n",
    "df_dtb_municipio.head()\n",
    "\n",
    "#Normaliza nome das Colunas encontradas\n",
    "tmp_cols = []\n",
    "for col in df_dtb_municipio.columns.to_list():\n",
    "    tmp_cols.append(non_alphanum_underscore(only_alphanum(remove_accents(col.upper()))))\n",
    "df_dtb_municipio.columns = tmp_cols; del tmp_cols\n",
    "\n",
    "conn = db.connect(db_file_path)\n",
    "conn.sql(\"DROP TABLE IF EXISTS DTB_IBGE_MUNICIPIOS\")\n",
    "conn.sql(\"CREATE TABLE DTB_IBGE_MUNICIPIOS AS SELECT * FROM df_dtb_municipio\")\n",
    "conn.close()"
   ]
  },
  {
   "cell_type": "markdown",
   "metadata": {
    "application/vnd.databricks.v1+cell": {
     "cellMetadata": {
      "byteLimit": 2048000,
      "rowLimit": 10000
     },
     "inputWidgets": {},
     "nuid": "1109a0cb-6516-4320-be9d-ded5e3da7220",
     "showTitle": false,
     "tableResultSettingsMap": {},
     "title": ""
    }
   },
   "source": [
    "Transformação e pré-processamento dos dados disponibilizados pela **Anatel**\n"
   ]
  },
  {
   "cell_type": "code",
   "execution_count": 0,
   "metadata": {
    "application/vnd.databricks.v1+cell": {
     "cellMetadata": {
      "byteLimit": 2048000,
      "rowLimit": 10000
     },
     "collapsed": true,
     "inputWidgets": {},
     "nuid": "70ca9f22-568c-4f9a-a1ba-7cf8022e42e5",
     "showTitle": false,
     "tableResultSettingsMap": {},
     "title": ""
    }
   },
   "outputs": [],
   "source": [
    "#Arquivos Anatel - Códigos de Areas Locais\n",
    "filename_cn = os.path.join(TMP_FILES,os.path.basename(URL_ANATEL_AREAS_LOCAIS))\n",
    "\n",
    "with ZipFile(filename_cn, 'r') as zip_ref:\n",
    "    source = zip_ref.open('CODIGOS_NACIONAIS_PGCN.csv')\n",
    "    target = open(os.path.join(TMP_FILES, 'CODIGOS_NACIONAIS_PGCN.csv'), \"wb\")\n",
    "    with source, target:\n",
    "            shutil.copyfileobj(source, target)\n",
    "df_arealocal = pd.read_csv(os.path.join(TMP_FILES,\"CODIGOS_NACIONAIS_PGCN.csv\"), sep=';')\n",
    "df_arealocal.head()\n",
    "\n",
    "#Normaliza nome das Colunas encontradas\n",
    "tmp_cols = []\n",
    "for col in df_arealocal.columns.to_list():\n",
    "    tmp_cols.append(dashes2underscore(non_alphanum_underscore(only_alphanum(remove_accents(col.upper())))))\n",
    "df_arealocal.columns = tmp_cols; del tmp_cols\n",
    "\n",
    "conn = db.connect(db_file_path)\n",
    "conn.sql(\"DROP TABLE IF EXISTS AREALOCAL\")\n",
    "conn.sql(\"CREATE TABLE AREALOCAL AS SELECT * FROM df_arealocal\")\n",
    "conn.close()"
   ]
  },
  {
   "cell_type": "code",
   "execution_count": 0,
   "metadata": {
    "application/vnd.databricks.v1+cell": {
     "cellMetadata": {
      "byteLimit": 2048000,
      "rowLimit": 10000
     },
     "collapsed": true,
     "inputWidgets": {},
     "nuid": "a0fc5577-96a7-4ad9-8cfb-d9f5edc0c1d4",
     "showTitle": false,
     "tableResultSettingsMap": {},
     "title": ""
    }
   },
   "outputs": [
    {
     "output_type": "stream",
     "name": "stdout",
     "output_type": "stream",
     "text": [
      "Tratando o arquivo Tabela_CSV_Indicadores_RQUAL.csv | tamanho do arquivo 1.8GiB;\nArquivo parquet gerado Tabela_CSV_Indicadores_RQUAL.parquet | tamanho do arquivo 159.6MiB;\n"
     ]
    },
    {
     "output_type": "display_data",
     "data": {
      "application/vnd.jupyter.widget-view+json": {
       "model_id": "d8d676c1af4648fabe79f43878cf36a0",
       "version_major": 2,
       "version_minor": 0
      },
      "text/plain": [
       "FloatProgress(value=0.0, layout=Layout(width='auto'), style=ProgressStyle(bar_color='black'))"
      ]
     },
     "metadata": {},
     "output_type": "display_data"
    }
   ],
   "source": [
    "#Arquivos Base Anatel - Indicadores\n",
    "filename_indicadores = os.path.join(TMP_FILES,os.path.basename(URL_RQUAL_IND))\n",
    "\n",
    "#descompacta\n",
    "ZipFile(filename_indicadores, 'r').extractall(TMP_FILES)\n",
    "\n",
    "#trata_indicadores\n",
    "csv_file = os.path.normpath(os.path.join(TMP_FILES, ZipFile(filename_indicadores).namelist()[0]))\n",
    "parquet_file = dashes2underscore(os.path.normpath(os.path.join(TMP_FILES, csv_file.replace('.csv','.parquet'))))\n",
    "print(f'Tratando o arquivo {os.path.basename(csv_file)} | tamanho do arquivo {sizeof_fmt(os.path.getsize(csv_file))};')\n",
    "\n",
    "df_schema = pl.scan_csv(csv_file, separator=';',\n",
    "                        encoding='utf8', has_header=True,\n",
    "                        infer_schema_length= 10000, null_values=['NÃO IDENTIFICADA'],\n",
    "                        n_rows=100000).collect_schema()\n",
    "\n",
    "#Normaliza nome das Colunas encontradas\n",
    "tmp_dict = {}\n",
    "for k, v in df_schema.items():\n",
    "    tmp_dict[non_alphanum_underscore(only_alphanum(remove_accents(k))).upper()] = df_schema[k]\n",
    "df_schema = tmp_dict.copy(); del tmp_dict\n",
    "\n",
    "#Realiza leitura do arquivo CSV via lazyFrame com Polars e converte para arquivo Parquet\n",
    "pl.scan_csv(csv_file, separator=';',\n",
    "            encoding='utf8', has_header=True,\n",
    "            infer_schema_length= 10000, null_values=['NÃO IDENTIFICADA'],\n",
    "            schema=df_schema).sink_parquet(\n",
    "                                        parquet_file,\n",
    "                                        compression=\"zstd\",\n",
    "                                        row_group_size=100_000\n",
    "                                        )\n",
    "print(f'Arquivo parquet gerado {os.path.basename(parquet_file)} | tamanho do arquivo {sizeof_fmt(os.path.getsize(parquet_file))};')\n",
    "\n",
    "# Carregando o dataset para Transformações no DuckDB\n",
    "conn = db.connect(db_file_path)\n",
    "tbl_name = non_alphanum_underscore(os.path.splitext(os.path.basename(parquet_file))[0].upper())\n",
    "conn.execute(f\"DROP TABLE IF EXISTS {tbl_name}\")\n",
    "conn.execute(f\"CREATE TABLE {tbl_name} AS SELECT * FROM parquet_scan('{parquet_file}')\")\n",
    "conn.close()"
   ]
  },
  {
   "cell_type": "code",
   "execution_count": 0,
   "metadata": {
    "application/vnd.databricks.v1+cell": {
     "cellMetadata": {
      "byteLimit": 2048000,
      "rowLimit": 10000
     },
     "collapsed": true,
     "inputWidgets": {},
     "nuid": "7e43d677-a472-4f64-9468-399f5066f0d3",
     "showTitle": false,
     "tableResultSettingsMap": {},
     "title": ""
    }
   },
   "outputs": [
    {
     "output_type": "stream",
     "name": "stdout",
     "output_type": "stream",
     "text": [
      "Tratando o arquivo Estacoes_SMP.csv | tamanho do arquivo 314.2MiB;\nArquivo parquet gerado Estacoes_SMP.parquet | tamanho do arquivo 29.1MiB;\n"
     ]
    },
    {
     "output_type": "display_data",
     "data": {
      "application/vnd.jupyter.widget-view+json": {
       "model_id": "6a8a31748f6246c0ab79a5e50608aa0f",
       "version_major": 2,
       "version_minor": 0
      },
      "text/plain": [
       "FloatProgress(value=0.0, layout=Layout(width='auto'), style=ProgressStyle(bar_color='black'))"
      ]
     },
     "metadata": {},
     "output_type": "display_data"
    }
   ],
   "source": [
    "#Arquivos Base Anatel - Estações Serviço Móvel - ERBs\n",
    "filename_base_sites = os.path.join(TMP_FILES,os.path.basename(URL_ESTACOES_SMP))\n",
    "\n",
    "#descompacta\n",
    "ZipFile(filename_base_sites, 'r').extractall(TMP_FILES)\n",
    "\n",
    "#trata_indicadores\n",
    "csv_file = os.path.normpath(os.path.join(TMP_FILES, ZipFile(filename_base_sites).namelist()[0]))\n",
    "parquet_file = dashes2underscore(os.path.normpath(os.path.join(TMP_FILES, csv_file.replace('.csv','.parquet'))))\n",
    "print(f'Tratando o arquivo {os.path.basename(csv_file)} | tamanho do arquivo {sizeof_fmt(os.path.getsize(csv_file))};')\n",
    "\n",
    "df_schema = pl.scan_csv(csv_file, separator=';',\n",
    "                        encoding='utf8', has_header=True,\n",
    "                        infer_schema_length= 100000, null_values=['NÃO IDENTIFICADA','#N/A',','],\n",
    "                        n_rows=100000).collect_schema()\n",
    "\n",
    "#Normaliza nome das Colunas encontradas\n",
    "tmp_dict = {}\n",
    "for k, v in df_schema.items():\n",
    "    tmp_dict[non_alphanum_underscore(only_alphanum(remove_accents(k))).upper()] = df_schema[k]\n",
    "df_schema = tmp_dict.copy(); del tmp_dict\n",
    "\n",
    "#Realiza leitura do arquivo CSV via lazyFrame com Polars e converte para arquivo Parquet\n",
    "pl.scan_csv(csv_file, separator=';',\n",
    "            encoding='utf8', has_header=True,\n",
    "            infer_schema_length= 10000, null_values=['NÃO IDENTIFICADA','#N/A',','],\n",
    "            schema=df_schema).sink_parquet(\n",
    "                                        parquet_file,\n",
    "                                        compression=\"zstd\",\n",
    "                                        row_group_size=100_000\n",
    "                                        )\n",
    "print(f'Arquivo parquet gerado {os.path.basename(parquet_file)} | tamanho do arquivo {sizeof_fmt(os.path.getsize(parquet_file))};')\n",
    "\n",
    "# Carregando o dataset para Transformações no DuckDB\n",
    "conn = db.connect(db_file_path)\n",
    "tbl_name = non_alphanum_underscore(os.path.splitext(os.path.basename(parquet_file))[0].upper())\n",
    "conn.execute(f\"DROP TABLE IF EXISTS {tbl_name}\")\n",
    "conn.execute(f\"CREATE TABLE {tbl_name} AS SELECT * FROM parquet_scan('{parquet_file}')\")\n",
    "conn.close()"
   ]
  },
  {
   "cell_type": "code",
   "execution_count": 0,
   "metadata": {
    "application/vnd.databricks.v1+cell": {
     "cellMetadata": {
      "byteLimit": 2048000,
      "rowLimit": 10000
     },
     "inputWidgets": {},
     "nuid": "33b01743-3a09-4ca6-927e-27a230916c79",
     "showTitle": false,
     "tableResultSettingsMap": {},
     "title": ""
    }
   },
   "outputs": [],
   "source": [
    "#Remove os arquivos que não serão utilizados para ingestão, aliviando espaço em disco do servidor\n",
    "for file in os.listdir(TMP_FILES):\n",
    "    if file.endswith((\".csv\",\".pdf\",\".ods\")):\n",
    "        os.remove(os.path.join(TMP_FILES, file))"
   ]
  },
  {
   "cell_type": "markdown",
   "metadata": {
    "application/vnd.databricks.v1+cell": {
     "cellMetadata": {
      "byteLimit": 2048000,
      "rowLimit": 10000
     },
     "inputWidgets": {},
     "nuid": "12f2c27b-996e-4389-befd-051a59d96bd6",
     "showTitle": false,
     "tableResultSettingsMap": {},
     "title": ""
    }
   },
   "source": [
    "Processamento via **duckdb** para ajustes pontuais em arquivos.\n",
    "\n",
    "Optei por utilizar o duckdb como uma camada _Bronze_ , tendo os dados parquet transformado anteriormente em sua camada analítica SQL.\n"
   ]
  },
  {
   "cell_type": "code",
   "execution_count": 0,
   "metadata": {
    "application/vnd.databricks.v1+cell": {
     "cellMetadata": {
      "byteLimit": 2048000,
      "rowLimit": 10000
     },
     "inputWidgets": {},
     "nuid": "1ae40613-28aa-49dc-a99d-5523f30e3059",
     "showTitle": false,
     "tableResultSettingsMap": {},
     "title": ""
    }
   },
   "outputs": [
    {
     "output_type": "display_data",
     "data": {
      "application/vnd.jupyter.widget-view+json": {
       "model_id": "4c87262c602d4b57a5249168d2314069",
       "version_major": 2,
       "version_minor": 0
      },
      "text/plain": [
       "FloatProgress(value=0.0, layout=Layout(width='auto'), style=ProgressStyle(bar_color='black'))"
      ]
     },
     "metadata": {},
     "output_type": "display_data"
    },
    {
     "output_type": "display_data",
     "data": {
      "application/vnd.jupyter.widget-view+json": {
       "model_id": "946c34a6aefb434eb7f20944e107cedb",
       "version_major": 2,
       "version_minor": 0
      },
      "text/plain": [
       "FloatProgress(value=0.0, layout=Layout(width='auto'), style=ProgressStyle(bar_color='black'))"
      ]
     },
     "metadata": {},
     "output_type": "display_data"
    }
   ],
   "source": [
    "conn = db.connect(db_file_path)\n",
    "\n",
    "v_sql_smp = '''\n",
    "DROP VIEW IF EXISTS V_RQUAL_ANATEL_SMP;\n",
    "\n",
    "CREATE OR REPLACE VIEW V_RQUAL_ANATEL_SMP as\n",
    "SELECT\n",
    " try_cast(MESDATPER as INTEGER) MESDATPER, ANO, MES, REPLACE(SERVICO, 'Telefonia Móvel', 'SMP') SERVICO, PRESTADORA, CODIGO_IBGE, UF, NOME_DO_MUNICIPIO,\n",
    " max(\"IND1_max(RESULTADO)\") IND1,\n",
    " max(\"IND2_max(RESULTADO)\") IND2,\n",
    " max(\"IND3_max(RESULTADO)\") IND3,\n",
    " max(\"IND4_max(RESULTADO)\") IND4,\n",
    " max(\"IND5_max(RESULTADO)\") IND5,\n",
    " max(\"IND6_max(RESULTADO)\") IND6,\n",
    " max(\"IND7_max(RESULTADO)\") IND7,\n",
    " max(\"IND8_max(RESULTADO)\") IND8,\n",
    " least(max(\"IND4_MAX(NUMERO_MEDIDAS)\"), max(\"IND5_MAX(NUMERO_MEDIDAS)\"), max(\"IND6_MAX(NUMERO_MEDIDAS)\"), max(\"IND7_MAX(NUMERO_MEDIDAS)\")) NUMERO_MEDIDAS,\n",
    " least(max(\"IND4_MAX(NUMERO_COLETORES)\"), max(\"IND5_MAX(NUMERO_COLETORES)\"), max(\"IND6_MAX(NUMERO_COLETORES)\"), max(\"IND7_MAX(NUMERO_COLETORES)\")) NUMERO_COLETORES,\n",
    " case when least(max(\"IND4_MAX(NUMERO_MEDIDAS)\"), max(\"IND5_MAX(NUMERO_MEDIDAS)\"), max(\"IND6_MAX(NUMERO_MEDIDAS)\"), max(\"IND7_MAX(NUMERO_MEDIDAS)\")) >= 109 then 1 else 0 end VALIDADE_ESTATISTICA\n",
    "from\n",
    "(\n",
    "\tselect\n",
    "\ttry_cast(i.ANO as varchar)||case when length(try_cast(i.MES as varchar))=1 then '0'||try_cast(i.MES as varchar) else try_cast(i.MES as varchar) end MESDATPER,\n",
    "\ti.ANO,\n",
    "\ti.MES,\n",
    "\ti.SERVICO,\n",
    "\ti.PRESTADORA,\n",
    "\ti.UF,\n",
    "\ti.MUNICIPIO NOME_DO_MUNICIPIO,\n",
    "\ti.CODIGO_IBGE,\n",
    "\ti.INDICADOR IND,\n",
    "\ti.RESULTADO,\n",
    "\ti.LIMITE_INFERIOR LIM_INFERIOR,\n",
    "\ti.LIMITE_SUPERIOR LIM_SUPERIOR,\n",
    "\ti.ERRO_AMOSTRAL,\n",
    "\ti.NUMERO_DE_MEDIDAS NUMERO_MEDIDAS,\n",
    "\ti.NUMERO_DE_COLETORES NUMERO_COLETORES\n",
    "\tfrom\n",
    "\tTABELA_CSV_INDICADORES_RQUAL i \n",
    "\twhere i.SERVICO = 'Telefonia Móvel'\n",
    "\tand i.TIPO = 'Indicador IQS'\n",
    ")\n",
    "pivot(\n",
    "    MAX(RESULTADO),\n",
    "    MAX(NUMERO_MEDIDAS),\n",
    "    MAX(NUMERO_COLETORES)\n",
    "    for ind in\n",
    "    (\n",
    "       'IND1' IND1,\n",
    "       'IND2' IND2,\n",
    "       'IND3' IND3,\n",
    "       'IND4' IND4,\n",
    "       'IND5' IND5,\n",
    "       'IND6' IND6,\n",
    "       'IND7' IND7,\n",
    "       'IND8' IND8\n",
    "    )\n",
    ")\n",
    " group by MESDATPER, ANO, MES, SERVICO, PRESTADORA, CODIGO_IBGE, UF, NOME_DO_MUNICIPIO\n",
    " order by MESDATPER, UF, CODIGO_IBGE\n",
    ";\n",
    "'''\n",
    "\n",
    "conn.execute(v_sql_smp)\n",
    "\n",
    "v_tbl_smp = '''\n",
    "select MESDATPER, ANO, MES, REPLACE(SERVICO, 'Telefonia Móvel', 'SMP') SERVICO, PRESTADORA, CODIGO_IBGE, UF, NOME_DO_MUNICIPIO,\n",
    "IND1, IND2, IND3, IND4, IND5, IND6, IND7, IND8, NUMERO_MEDIDAS, NUMERO_COLETORES, VALIDADE_ESTATISTICA\n",
    "from V_RQUAL_ANATEL_SMP\n",
    "'''\n",
    "\n",
    "df_rqual_smp = conn.execute(v_tbl_smp).df()\n",
    "df_estacoes_smp = conn.execute('select * from ESTACOES_SMP').df()\n",
    "\n",
    "df_ibge = conn.execute('select * from DTB_IBGE_MUNICIPIOS').df()\n",
    "df_arealocal = conn.execute('select * from AREALOCAL').df()\n",
    "\n",
    "conn.close()"
   ]
  },
  {
   "cell_type": "markdown",
   "metadata": {
    "application/vnd.databricks.v1+cell": {
     "cellMetadata": {
      "byteLimit": 2048000,
      "rowLimit": 10000
     },
     "inputWidgets": {},
     "nuid": "6b36d3c1-ced4-4db1-92e4-da4a7290341e",
     "showTitle": false,
     "tableResultSettingsMap": {},
     "title": ""
    }
   },
   "source": [
    "Criação da camada _Silver_ no Spark e realizando a ingestão dos dados;\n",
    "\n",
    "Estamos definindo em sequencia duas Tabelas como \"Fatos\" e duas dimensões (IBGE e Area Local)"
   ]
  },
  {
   "cell_type": "code",
   "execution_count": 0,
   "metadata": {
    "application/vnd.databricks.v1+cell": {
     "cellMetadata": {
      "byteLimit": 2048000,
      "implicitDf": true,
      "rowLimit": 10000
     },
     "inputWidgets": {},
     "nuid": "fed92245-9975-4eeb-b8c5-7e38cae23f29",
     "showTitle": false,
     "tableResultSettingsMap": {},
     "title": ""
    }
   },
   "outputs": [
    {
     "output_type": "display_data",
     "data": {
      "text/html": [
       "<style scoped>\n",
       "  .table-result-container {\n",
       "    max-height: 300px;\n",
       "    overflow: auto;\n",
       "  }\n",
       "  table, th, td {\n",
       "    border: 1px solid black;\n",
       "    border-collapse: collapse;\n",
       "  }\n",
       "  th, td {\n",
       "    padding: 5px;\n",
       "  }\n",
       "  th {\n",
       "    text-align: left;\n",
       "  }\n",
       "</style><div class='table-result-container'><table class='table-result'><thead style='background-color: white'><tr></tr></thead><tbody></tbody></table></div>"
      ]
     },
     "metadata": {
      "application/vnd.databricks.v1+output": {
       "addedWidgets": {},
       "aggData": [],
       "aggError": "",
       "aggOverflow": false,
       "aggSchema": [],
       "aggSeriesLimitReached": false,
       "aggType": "",
       "arguments": {},
       "columnCustomDisplayInfos": {},
       "data": [],
       "datasetInfos": [],
       "dbfsResultPath": null,
       "isJsonSchema": true,
       "metadata": {},
       "overflow": false,
       "plotOptions": {
        "customPlotOptions": {},
        "displayType": "table",
        "pivotAggregation": null,
        "pivotColumns": null,
        "xColumns": null,
        "yColumns": null
       },
       "removedWidgets": [],
       "schema": [],
       "type": "table"
      }
     },
     "output_type": "display_data"
    }
   ],
   "source": [
    "%sql \n",
    "DROP DATABASE IF EXISTS l_silver CASCADE;\n",
    "CREATE DATABASE l_silver;"
   ]
  },
  {
   "cell_type": "code",
   "execution_count": 0,
   "metadata": {
    "application/vnd.databricks.v1+cell": {
     "cellMetadata": {
      "byteLimit": 2048000,
      "rowLimit": 10000
     },
     "inputWidgets": {},
     "nuid": "dc3dd332-b606-48b9-abc5-65c3e64861fc",
     "showTitle": false,
     "tableResultSettingsMap": {},
     "title": ""
    }
   },
   "outputs": [],
   "source": [
    "#Cria tabela F_RQUAL_SMP\n",
    "rqual_smp_spark_df = spark.createDataFrame(df_rqual_smp)\n",
    "rqual_smp_spark_df.write.mode(\"overwrite\").saveAsTable(\"l_silver.f_rqual_smp\")\n",
    "\n",
    "#Cria tabela F_ESTACOES_SMP\n",
    "estacoes_smp_spark_df = spark.createDataFrame(df_estacoes_smp)\n",
    "estacoes_smp_spark_df.write.mode(\"overwrite\").saveAsTable(\"l_silver.f_estacoes_smp\")\n",
    "\n",
    "#Cria tabela D_IBGE\n",
    "df_ibge_subset = df_ibge[['CODIGO_MUNICIPIO_COMPLETO', 'NOME_MUNICIPIO', 'UF', 'NOME_UF']].copy()\n",
    "df_ibge_subset.columns = ['COD_IBGE', 'MUNICIPIO', 'COD_UF', 'UF']\n",
    "ibge_spark_df = spark.createDataFrame(df_ibge_subset)\n",
    "ibge_spark_df.write.mode(\"overwrite\").saveAsTable(\"l_silver.d_ibge\")\n",
    "\n",
    "#Cria tabela D_AREALOCAL\n",
    "df_arealocal_subset = df_arealocal[['CO_MUNICIPIO_IBGE', 'CN']].copy()\n",
    "df_arealocal_subset.columns = ['COD_IBGE', 'CN']\n",
    "arealocal_spark_df = spark.createDataFrame(df_arealocal_subset)\n",
    "arealocal_spark_df.write.mode(\"overwrite\").saveAsTable(\"l_silver.d_arealocal\")"
   ]
  },
  {
   "cell_type": "markdown",
   "metadata": {
    "application/vnd.databricks.v1+cell": {
     "cellMetadata": {
      "byteLimit": 2048000,
      "rowLimit": 10000
     },
     "inputWidgets": {},
     "nuid": "d03388a2-12c2-4438-b149-5d6b0b573900",
     "showTitle": false,
     "tableResultSettingsMap": {},
     "title": ""
    }
   },
   "source": [
    "Criação da camada _Gold_  no Spark e realizando a ingestão dos dados;\n",
    "\n",
    "Estamos definindo em sequencia duas Tabelas como \"Fatos\" e duas dimensões (IBGE e Area Local)"
   ]
  },
  {
   "cell_type": "code",
   "execution_count": 0,
   "metadata": {
    "application/vnd.databricks.v1+cell": {
     "cellMetadata": {
      "byteLimit": 2048000,
      "implicitDf": true,
      "rowLimit": 10000
     },
     "inputWidgets": {},
     "nuid": "b5a48736-fffd-477f-a226-48b083cee384",
     "showTitle": false,
     "tableResultSettingsMap": {},
     "title": ""
    }
   },
   "outputs": [
    {
     "output_type": "display_data",
     "data": {
      "text/html": [
       "<style scoped>\n",
       "  .table-result-container {\n",
       "    max-height: 300px;\n",
       "    overflow: auto;\n",
       "  }\n",
       "  table, th, td {\n",
       "    border: 1px solid black;\n",
       "    border-collapse: collapse;\n",
       "  }\n",
       "  th, td {\n",
       "    padding: 5px;\n",
       "  }\n",
       "  th {\n",
       "    text-align: left;\n",
       "  }\n",
       "</style><div class='table-result-container'><table class='table-result'><thead style='background-color: white'><tr></tr></thead><tbody></tbody></table></div>"
      ]
     },
     "metadata": {
      "application/vnd.databricks.v1+output": {
       "addedWidgets": {},
       "aggData": [],
       "aggError": "",
       "aggOverflow": false,
       "aggSchema": [],
       "aggSeriesLimitReached": false,
       "aggType": "",
       "arguments": {},
       "columnCustomDisplayInfos": {},
       "data": [],
       "datasetInfos": [],
       "dbfsResultPath": null,
       "isJsonSchema": true,
       "metadata": {},
       "overflow": false,
       "plotOptions": {
        "customPlotOptions": {},
        "displayType": "table",
        "pivotAggregation": null,
        "pivotColumns": null,
        "xColumns": null,
        "yColumns": null
       },
       "removedWidgets": [],
       "schema": [],
       "type": "table"
      }
     },
     "output_type": "display_data"
    }
   ],
   "source": [
    "%sql \n",
    "DROP DATABASE IF EXISTS l_gold CASCADE;\n",
    "CREATE DATABASE l_gold;"
   ]
  },
  {
   "cell_type": "markdown",
   "metadata": {
    "application/vnd.databricks.v1+cell": {
     "cellMetadata": {
      "byteLimit": 2048000,
      "rowLimit": 10000
     },
     "inputWidgets": {},
     "nuid": "6232a9c5-3dbd-4df5-aa48-0b7400afaf75",
     "showTitle": false,
     "tableResultSettingsMap": {},
     "title": ""
    }
   },
   "source": [
    "Criação da view Erbs_BR - Resultado consolidado de ERBs a nível nacional"
   ]
  },
  {
   "cell_type": "code",
   "execution_count": 0,
   "metadata": {
    "application/vnd.databricks.v1+cell": {
     "cellMetadata": {
      "byteLimit": 2048000,
      "implicitDf": true,
      "rowLimit": 10000
     },
     "collapsed": true,
     "inputWidgets": {},
     "nuid": "ac536881-7719-4a84-a1f8-f006710b80cc",
     "showTitle": false,
     "tableResultSettingsMap": {},
     "title": ""
    }
   },
   "outputs": [
    {
     "output_type": "display_data",
     "data": {
      "text/html": [
       "<style scoped>\n",
       "  .table-result-container {\n",
       "    max-height: 300px;\n",
       "    overflow: auto;\n",
       "  }\n",
       "  table, th, td {\n",
       "    border: 1px solid black;\n",
       "    border-collapse: collapse;\n",
       "  }\n",
       "  th, td {\n",
       "    padding: 5px;\n",
       "  }\n",
       "  th {\n",
       "    text-align: left;\n",
       "  }\n",
       "</style><div class='table-result-container'><table class='table-result'><thead style='background-color: white'><tr></tr></thead><tbody></tbody></table></div>"
      ]
     },
     "metadata": {
      "application/vnd.databricks.v1+output": {
       "addedWidgets": {},
       "aggData": [],
       "aggError": "",
       "aggOverflow": false,
       "aggSchema": [],
       "aggSeriesLimitReached": false,
       "aggType": "",
       "arguments": {},
       "columnCustomDisplayInfos": {},
       "data": [],
       "datasetInfos": [],
       "dbfsResultPath": null,
       "isJsonSchema": true,
       "metadata": {},
       "overflow": false,
       "plotOptions": {
        "customPlotOptions": {},
        "displayType": "table",
        "pivotAggregation": null,
        "pivotColumns": null,
        "xColumns": null,
        "yColumns": null
       },
       "removedWidgets": [],
       "schema": [],
       "type": "table"
      }
     },
     "output_type": "display_data"
    }
   ],
   "source": [
    "%sql \n",
    "/* Criar visualização do resultado em agregação a nível País - Brasil */\n",
    "create or replace view l_gold.vw_erbs_br as\n",
    "  select *\n",
    "  from\n",
    "  (\n",
    "    SELECT PRESTADORA,\n",
    "                  TCN,\n",
    "                  SUM(QTD_ESTAC) AS ERBS\n",
    "            FROM\n",
    "              (SELECT DISTINCT\n",
    "                  upper(bs.EMPRESA_ESTACAO) PRESTADORA,\n",
    "                  count(distinct bs.numero_estacao) QTD_ESTAC,\n",
    "                  bs.geracao TCN,\n",
    "                  al.CN COD_AREA,\n",
    "                  ib.COD_UF,\n",
    "                  ib.UF,\n",
    "                  ib.MUNICIPIO CIDADE,\n",
    "                  ib.COD_IBGE\n",
    "                  FROM l_silver.f_estacoes_smp bs\n",
    "                    join l_silver.d_ibge ib on bs.CODIGO_IBGE = ib.COD_IBGE\n",
    "                    left join l_silver.d_arealocal al on bs.CODIGO_IBGE = al.COD_IBGE\n",
    "                  where bs.geracao is not null\n",
    "                  group by\n",
    "                  bs.EMPRESA_ESTACAO, bs.GERACAO, al.CN, ib.COD_UF, ib.UF, ib.MUNICIPIO, ib.COD_IBGE\n",
    "                )\n",
    "          group by PRESTADORA, TCN\n",
    "  )\n",
    "  pivot(\n",
    "    max(erbs) AS qtd_erbs\n",
    "        FOR tcn IN ('2G' AS TCN_2G, '3G' AS TCN_3G, '4G' AS TCN_4G, '5G' AS TCN_5G)\n",
    "      )\n",
    ";"
   ]
  },
  {
   "cell_type": "code",
   "execution_count": 0,
   "metadata": {
    "application/vnd.databricks.v1+cell": {
     "cellMetadata": {
      "byteLimit": 2048000,
      "implicitDf": true,
      "rowLimit": 10000
     },
     "inputWidgets": {},
     "nuid": "0245e553-4969-42f4-903e-7949985cc954",
     "showTitle": false,
     "tableResultSettingsMap": {},
     "title": ""
    }
   },
   "outputs": [
    {
     "output_type": "display_data",
     "data": {
      "text/html": [
       "<style scoped>\n",
       "  .table-result-container {\n",
       "    max-height: 300px;\n",
       "    overflow: auto;\n",
       "  }\n",
       "  table, th, td {\n",
       "    border: 1px solid black;\n",
       "    border-collapse: collapse;\n",
       "  }\n",
       "  th, td {\n",
       "    padding: 5px;\n",
       "  }\n",
       "  th {\n",
       "    text-align: left;\n",
       "  }\n",
       "</style><div class='table-result-container'><table class='table-result'><thead style='background-color: white'><tr><th>PRESTADORA</th><th>TCN_2G</th><th>TCN_3G</th><th>TCN_4G</th><th>TCN_5G</th></tr></thead><tbody><tr><td>IEZ! TELECOM LTDA.</td><td>null</td><td>null</td><td>11</td><td>11</td></tr><tr><td>VIVO</td><td>16324</td><td>26935</td><td>34212</td><td>16065</td></tr><tr><td>SERCOMTEL</td><td>38</td><td>42</td><td>null</td><td>null</td></tr><tr><td>GIGA+</td><td>null</td><td>null</td><td>12</td><td>null</td></tr><tr><td>ALGAR</td><td>398</td><td>615</td><td>557</td><td>185</td></tr><tr><td>TIM</td><td>18165</td><td>19868</td><td>30809</td><td>12720</td></tr><tr><td>UNIFIQUE TELECOMUNICACOES S/A</td><td>null</td><td>null</td><td>160</td><td>140</td></tr><tr><td>BRISANET</td><td>null</td><td>null</td><td>1778</td><td>1506</td></tr><tr><td>CLARO</td><td>19653</td><td>24767</td><td>28039</td><td>11741</td></tr></tbody></table></div>"
      ]
     },
     "metadata": {
      "application/vnd.databricks.v1+output": {
       "addedWidgets": {},
       "aggData": [],
       "aggError": "",
       "aggOverflow": false,
       "aggSchema": [],
       "aggSeriesLimitReached": false,
       "aggType": "",
       "arguments": {},
       "columnCustomDisplayInfos": {},
       "data": [
        [
         "IEZ! TELECOM LTDA.",
         null,
         null,
         11,
         11
        ],
        [
         "VIVO",
         16324,
         26935,
         34212,
         16065
        ],
        [
         "SERCOMTEL",
         38,
         42,
         null,
         null
        ],
        [
         "GIGA+",
         null,
         null,
         12,
         null
        ],
        [
         "ALGAR",
         398,
         615,
         557,
         185
        ],
        [
         "TIM",
         18165,
         19868,
         30809,
         12720
        ],
        [
         "UNIFIQUE TELECOMUNICACOES S/A",
         null,
         null,
         160,
         140
        ],
        [
         "BRISANET",
         null,
         null,
         1778,
         1506
        ],
        [
         "CLARO",
         19653,
         24767,
         28039,
         11741
        ]
       ],
       "datasetInfos": [],
       "dbfsResultPath": null,
       "isJsonSchema": true,
       "metadata": {},
       "overflow": false,
       "plotOptions": {
        "customPlotOptions": {},
        "displayType": "table",
        "pivotAggregation": null,
        "pivotColumns": null,
        "xColumns": null,
        "yColumns": null
       },
       "removedWidgets": [],
       "schema": [
        {
         "metadata": "{}",
         "name": "PRESTADORA",
         "type": "\"string\""
        },
        {
         "metadata": "{}",
         "name": "TCN_2G",
         "type": "\"long\""
        },
        {
         "metadata": "{}",
         "name": "TCN_3G",
         "type": "\"long\""
        },
        {
         "metadata": "{}",
         "name": "TCN_4G",
         "type": "\"long\""
        },
        {
         "metadata": "{}",
         "name": "TCN_5G",
         "type": "\"long\""
        }
       ],
       "type": "table"
      }
     },
     "output_type": "display_data"
    }
   ],
   "source": [
    "%sql\n",
    "select * from l_gold.vw_erbs_br\n",
    "limit 10;"
   ]
  },
  {
   "cell_type": "markdown",
   "metadata": {
    "application/vnd.databricks.v1+cell": {
     "cellMetadata": {
      "byteLimit": 2048000,
      "rowLimit": 10000
     },
     "inputWidgets": {},
     "nuid": "b7cd7802-07df-44a6-8a47-223050eb981a",
     "showTitle": false,
     "tableResultSettingsMap": {},
     "title": ""
    }
   },
   "source": [
    "Criação da view Erbs_UF - Resultado consolidado de ERBs a nível de unidades federativas (estados da união)"
   ]
  },
  {
   "cell_type": "code",
   "execution_count": 0,
   "metadata": {
    "application/vnd.databricks.v1+cell": {
     "cellMetadata": {
      "byteLimit": 2048000,
      "implicitDf": true,
      "rowLimit": 10000
     },
     "collapsed": true,
     "inputWidgets": {},
     "nuid": "886e3e5c-2821-4ec9-a784-a8be0aa5a8de",
     "showTitle": false,
     "tableResultSettingsMap": {},
     "title": ""
    }
   },
   "outputs": [
    {
     "output_type": "display_data",
     "data": {
      "text/html": [
       "<style scoped>\n",
       "  .table-result-container {\n",
       "    max-height: 300px;\n",
       "    overflow: auto;\n",
       "  }\n",
       "  table, th, td {\n",
       "    border: 1px solid black;\n",
       "    border-collapse: collapse;\n",
       "  }\n",
       "  th, td {\n",
       "    padding: 5px;\n",
       "  }\n",
       "  th {\n",
       "    text-align: left;\n",
       "  }\n",
       "</style><div class='table-result-container'><table class='table-result'><thead style='background-color: white'><tr></tr></thead><tbody></tbody></table></div>"
      ]
     },
     "metadata": {
      "application/vnd.databricks.v1+output": {
       "addedWidgets": {},
       "aggData": [],
       "aggError": "",
       "aggOverflow": false,
       "aggSchema": [],
       "aggSeriesLimitReached": false,
       "aggType": "",
       "arguments": {},
       "columnCustomDisplayInfos": {},
       "data": [],
       "datasetInfos": [],
       "dbfsResultPath": null,
       "isJsonSchema": true,
       "metadata": {},
       "overflow": false,
       "plotOptions": {
        "customPlotOptions": {},
        "displayType": "table",
        "pivotAggregation": null,
        "pivotColumns": null,
        "xColumns": null,
        "yColumns": null
       },
       "removedWidgets": [],
       "schema": [],
       "type": "table"
      }
     },
     "output_type": "display_data"
    }
   ],
   "source": [
    "%sql \n",
    "/* Criar visualização do resultado em agregação a nível UF - Brasil */\n",
    "create or replace view l_gold.vw_erbs_uf as\n",
    "  select *\n",
    "  from\n",
    "  (\n",
    "    SELECT \n",
    "          UF, COD_UF, COD_AREA,\n",
    "          PRESTADORA,\n",
    "          TCN,\n",
    "          SUM(QTD_ESTAC) AS ERBS\n",
    "            FROM\n",
    "              (SELECT DISTINCT\n",
    "                  upper(bs.EMPRESA_ESTACAO) PRESTADORA,\n",
    "                  count(distinct bs.numero_estacao) QTD_ESTAC,\n",
    "                  bs.geracao TCN,\n",
    "                  al.CN COD_AREA,\n",
    "                  ib.COD_UF,\n",
    "                  ib.UF,\n",
    "                  ib.MUNICIPIO CIDADE,\n",
    "                  ib.COD_IBGE\n",
    "                  FROM l_silver.f_estacoes_smp bs\n",
    "                    join l_silver.d_ibge ib on bs.CODIGO_IBGE = ib.COD_IBGE\n",
    "                    left join l_silver.d_arealocal al on bs.CODIGO_IBGE = al.COD_IBGE\n",
    "                  where bs.geracao is not null\n",
    "                  group by\n",
    "                  bs.EMPRESA_ESTACAO, bs.GERACAO, al.CN, ib.COD_UF, ib.UF, ib.MUNICIPIO, ib.COD_IBGE\n",
    "                )\n",
    "          group by \n",
    "          UF, COD_UF, COD_AREA,\n",
    "          PRESTADORA, TCN\n",
    "  )\n",
    "  pivot(\n",
    "    max(erbs) AS qtd_erbs\n",
    "        FOR tcn IN ('2G' AS TCN_2G, '3G' AS TCN_3G, '4G' AS TCN_4G, '5G' AS TCN_5G)\n",
    "      )\n",
    ";"
   ]
  },
  {
   "cell_type": "code",
   "execution_count": 0,
   "metadata": {
    "application/vnd.databricks.v1+cell": {
     "cellMetadata": {
      "byteLimit": 2048000,
      "implicitDf": true,
      "rowLimit": 10000
     },
     "inputWidgets": {},
     "nuid": "b563bd66-a933-412f-83b0-5724e01524fe",
     "showTitle": false,
     "tableResultSettingsMap": {},
     "title": ""
    }
   },
   "outputs": [
    {
     "output_type": "display_data",
     "data": {
      "text/html": [
       "<style scoped>\n",
       "  .table-result-container {\n",
       "    max-height: 300px;\n",
       "    overflow: auto;\n",
       "  }\n",
       "  table, th, td {\n",
       "    border: 1px solid black;\n",
       "    border-collapse: collapse;\n",
       "  }\n",
       "  th, td {\n",
       "    padding: 5px;\n",
       "  }\n",
       "  th {\n",
       "    text-align: left;\n",
       "  }\n",
       "</style><div class='table-result-container'><table class='table-result'><thead style='background-color: white'><tr><th>UF</th><th>COD_UF</th><th>COD_AREA</th><th>PRESTADORA</th><th>TCN_2G</th><th>TCN_3G</th><th>TCN_4G</th><th>TCN_5G</th></tr></thead><tbody><tr><td>Minas Gerais</td><td>31</td><td>37</td><td>VIVO</td><td>134</td><td>233</td><td>283</td><td>60</td></tr><tr><td>Minas Gerais</td><td>31</td><td>32</td><td>CLARO</td><td>238</td><td>260</td><td>311</td><td>83</td></tr><tr><td>Minas Gerais</td><td>31</td><td>34</td><td>ALGAR</td><td>252</td><td>360</td><td>348</td><td>138</td></tr><tr><td>Rio Grande do Sul</td><td>43</td><td>51</td><td>TIM</td><td>532</td><td>527</td><td>1069</td><td>263</td></tr><tr><td>Acre</td><td>12</td><td>68</td><td>VIVO</td><td>54</td><td>89</td><td>106</td><td>60</td></tr><tr><td>Goiás</td><td>52</td><td>61</td><td>VIVO</td><td>56</td><td>77</td><td>141</td><td>63</td></tr><tr><td>Bahia</td><td>29</td><td>73</td><td>TIM</td><td>107</td><td>157</td><td>297</td><td>38</td></tr><tr><td>Paraná</td><td>41</td><td>42</td><td>TIM</td><td>134</td><td>245</td><td>305</td><td>75</td></tr><tr><td>Santa Catarina</td><td>42</td><td>49</td><td>UNIFIQUE TELECOMUNICACOES S/A</td><td>null</td><td>null</td><td>10</td><td>10</td></tr><tr><td>Goiás</td><td>52</td><td>61</td><td>CLARO</td><td>102</td><td>147</td><td>149</td><td>45</td></tr></tbody></table></div>"
      ]
     },
     "metadata": {
      "application/vnd.databricks.v1+output": {
       "addedWidgets": {},
       "aggData": [],
       "aggError": "",
       "aggOverflow": false,
       "aggSchema": [],
       "aggSeriesLimitReached": false,
       "aggType": "",
       "arguments": {},
       "columnCustomDisplayInfos": {},
       "data": [
        [
         "Minas Gerais",
         31,
         37,
         "VIVO",
         134,
         233,
         283,
         60
        ],
        [
         "Minas Gerais",
         31,
         32,
         "CLARO",
         238,
         260,
         311,
         83
        ],
        [
         "Minas Gerais",
         31,
         34,
         "ALGAR",
         252,
         360,
         348,
         138
        ],
        [
         "Rio Grande do Sul",
         43,
         51,
         "TIM",
         532,
         527,
         1069,
         263
        ],
        [
         "Acre",
         12,
         68,
         "VIVO",
         54,
         89,
         106,
         60
        ],
        [
         "Goiás",
         52,
         61,
         "VIVO",
         56,
         77,
         141,
         63
        ],
        [
         "Bahia",
         29,
         73,
         "TIM",
         107,
         157,
         297,
         38
        ],
        [
         "Paraná",
         41,
         42,
         "TIM",
         134,
         245,
         305,
         75
        ],
        [
         "Santa Catarina",
         42,
         49,
         "UNIFIQUE TELECOMUNICACOES S/A",
         null,
         null,
         10,
         10
        ],
        [
         "Goiás",
         52,
         61,
         "CLARO",
         102,
         147,
         149,
         45
        ]
       ],
       "datasetInfos": [],
       "dbfsResultPath": null,
       "isJsonSchema": true,
       "metadata": {},
       "overflow": false,
       "plotOptions": {
        "customPlotOptions": {},
        "displayType": "table",
        "pivotAggregation": null,
        "pivotColumns": null,
        "xColumns": null,
        "yColumns": null
       },
       "removedWidgets": [],
       "schema": [
        {
         "metadata": "{}",
         "name": "UF",
         "type": "\"string\""
        },
        {
         "metadata": "{}",
         "name": "COD_UF",
         "type": "\"long\""
        },
        {
         "metadata": "{}",
         "name": "COD_AREA",
         "type": "\"long\""
        },
        {
         "metadata": "{}",
         "name": "PRESTADORA",
         "type": "\"string\""
        },
        {
         "metadata": "{}",
         "name": "TCN_2G",
         "type": "\"long\""
        },
        {
         "metadata": "{}",
         "name": "TCN_3G",
         "type": "\"long\""
        },
        {
         "metadata": "{}",
         "name": "TCN_4G",
         "type": "\"long\""
        },
        {
         "metadata": "{}",
         "name": "TCN_5G",
         "type": "\"long\""
        }
       ],
       "type": "table"
      }
     },
     "output_type": "display_data"
    }
   ],
   "source": [
    "%sql\n",
    "select * from l_gold.vw_erbs_uf\n",
    "limit 10;"
   ]
  },
  {
   "cell_type": "markdown",
   "metadata": {
    "application/vnd.databricks.v1+cell": {
     "cellMetadata": {
      "byteLimit": 2048000,
      "rowLimit": 10000
     },
     "inputWidgets": {},
     "nuid": "076393d4-af2e-4741-bca2-83d0f79ad0c2",
     "showTitle": false,
     "tableResultSettingsMap": {},
     "title": ""
    }
   },
   "source": [
    "Criação da view Erbs_Cid - Resultado consolidado de ERBs a nível dos municípios das unidades federativas (Cidades)"
   ]
  },
  {
   "cell_type": "code",
   "execution_count": 0,
   "metadata": {
    "application/vnd.databricks.v1+cell": {
     "cellMetadata": {
      "byteLimit": 2048000,
      "implicitDf": true,
      "rowLimit": 10000
     },
     "collapsed": true,
     "inputWidgets": {},
     "nuid": "b3afd1e0-617d-4113-bc55-5cac5ea85be8",
     "showTitle": false,
     "tableResultSettingsMap": {},
     "title": ""
    }
   },
   "outputs": [
    {
     "output_type": "display_data",
     "data": {
      "text/html": [
       "<style scoped>\n",
       "  .table-result-container {\n",
       "    max-height: 300px;\n",
       "    overflow: auto;\n",
       "  }\n",
       "  table, th, td {\n",
       "    border: 1px solid black;\n",
       "    border-collapse: collapse;\n",
       "  }\n",
       "  th, td {\n",
       "    padding: 5px;\n",
       "  }\n",
       "  th {\n",
       "    text-align: left;\n",
       "  }\n",
       "</style><div class='table-result-container'><table class='table-result'><thead style='background-color: white'><tr></tr></thead><tbody></tbody></table></div>"
      ]
     },
     "metadata": {
      "application/vnd.databricks.v1+output": {
       "addedWidgets": {},
       "aggData": [],
       "aggError": "",
       "aggOverflow": false,
       "aggSchema": [],
       "aggSeriesLimitReached": false,
       "aggType": "",
       "arguments": {},
       "columnCustomDisplayInfos": {},
       "data": [],
       "datasetInfos": [],
       "dbfsResultPath": null,
       "isJsonSchema": true,
       "metadata": {},
       "overflow": false,
       "plotOptions": {
        "customPlotOptions": {},
        "displayType": "table",
        "pivotAggregation": null,
        "pivotColumns": null,
        "xColumns": null,
        "yColumns": null
       },
       "removedWidgets": [],
       "schema": [],
       "type": "table"
      }
     },
     "output_type": "display_data"
    }
   ],
   "source": [
    "%sql \n",
    "/* Criar visualização do resultado em agregação a nível Cidades - Brasil */\n",
    "create or replace view l_gold.vw_erbs_cid as\n",
    "  select *\n",
    "  from\n",
    "  (\n",
    "    SELECT \n",
    "          UF, COD_UF, COD_AREA,\n",
    "          COD_IBGE, CIDADE, CAPITAL,\n",
    "          PRESTADORA,\n",
    "          TCN,\n",
    "          SUM(QTD_ESTAC) AS ERBS\n",
    "            FROM\n",
    "              (SELECT DISTINCT\n",
    "                  upper(bs.EMPRESA_ESTACAO) PRESTADORA,\n",
    "                  count(distinct bs.numero_estacao) QTD_ESTAC,\n",
    "                  bs.geracao TCN,\n",
    "                  al.CN COD_AREA,\n",
    "                  ib.COD_UF,\n",
    "                  ib.UF,\n",
    "                  ib.MUNICIPIO CIDADE,\n",
    "                  ib.COD_IBGE,\n",
    "                  case\n",
    "                  when ib.COD_IBGE in (\n",
    "                    1100205,1302603,1200401,5002704,1600303,\n",
    "                    5300108,1400100,5103403,1721000,3550308,\n",
    "                    2211001,3304557,1501402,5208707,2927408,\n",
    "                    4205407,2111300,2704302,4314902,4106902,\n",
    "                    3106200,2304400,2611606,2507507,2800308,\n",
    "                    2408102,3205309\n",
    "                  ) then\n",
    "                  'SIM' else 'NÃO' end as CAPITAL\n",
    "                  FROM l_silver.f_estacoes_smp bs\n",
    "                    join l_silver.d_ibge ib on bs.CODIGO_IBGE = ib.COD_IBGE\n",
    "                    left join l_silver.d_arealocal al on bs.CODIGO_IBGE = al.COD_IBGE\n",
    "                  where bs.geracao is not null\n",
    "                  group by\n",
    "                  bs.EMPRESA_ESTACAO, bs.GERACAO, al.CN, ib.COD_UF, ib.UF, ib.MUNICIPIO, ib.COD_IBGE, CAPITAL\n",
    "                )\n",
    "          group by \n",
    "          UF, COD_UF, COD_AREA,\n",
    "          COD_IBGE, CIDADE, CAPITAL,\n",
    "          PRESTADORA, TCN\n",
    "  )\n",
    "  pivot(\n",
    "    max(erbs) AS qtd_erbs\n",
    "        FOR tcn IN ('2G' AS TCN_2G, '3G' AS TCN_3G, '4G' AS TCN_4G, '5G' AS TCN_5G)\n",
    "      )\n",
    ";"
   ]
  },
  {
   "cell_type": "code",
   "execution_count": 0,
   "metadata": {
    "application/vnd.databricks.v1+cell": {
     "cellMetadata": {
      "byteLimit": 2048000,
      "implicitDf": true,
      "rowLimit": 10000
     },
     "inputWidgets": {},
     "nuid": "1748ccf3-edf2-46c9-8a2e-5b803046a065",
     "showTitle": false,
     "tableResultSettingsMap": {},
     "title": ""
    }
   },
   "outputs": [
    {
     "output_type": "display_data",
     "data": {
      "text/html": [
       "<style scoped>\n",
       "  .table-result-container {\n",
       "    max-height: 300px;\n",
       "    overflow: auto;\n",
       "  }\n",
       "  table, th, td {\n",
       "    border: 1px solid black;\n",
       "    border-collapse: collapse;\n",
       "  }\n",
       "  th, td {\n",
       "    padding: 5px;\n",
       "  }\n",
       "  th {\n",
       "    text-align: left;\n",
       "  }\n",
       "</style><div class='table-result-container'><table class='table-result'><thead style='background-color: white'><tr><th>UF</th><th>COD_UF</th><th>COD_AREA</th><th>COD_IBGE</th><th>CIDADE</th><th>CAPITAL</th><th>PRESTADORA</th><th>TCN_2G</th><th>TCN_3G</th><th>TCN_4G</th><th>TCN_5G</th></tr></thead><tbody><tr><td>Goiás</td><td>52</td><td>64</td><td>5205901</td><td>Corumbaíba</td><td>NÃO</td><td>CLARO</td><td>1</td><td>1</td><td>1</td><td>null</td></tr><tr><td>Minas Gerais</td><td>31</td><td>31</td><td>3118106</td><td>Congonhas do Norte</td><td>NÃO</td><td>CLARO</td><td>1</td><td>1</td><td>1</td><td>null</td></tr><tr><td>Maranhão</td><td>21</td><td>98</td><td>2107506</td><td>Paço do Lumiar</td><td>NÃO</td><td>BRISANET</td><td>null</td><td>null</td><td>1</td><td>1</td></tr><tr><td>São Paulo</td><td>35</td><td>19</td><td>3509502</td><td>Campinas</td><td>NÃO</td><td>TIM</td><td>99</td><td>168</td><td>221</td><td>163</td></tr><tr><td>Bahia</td><td>29</td><td>77</td><td>2906105</td><td>Canápolis</td><td>NÃO</td><td>VIVO</td><td>1</td><td>1</td><td>1</td><td>null</td></tr><tr><td>Minas Gerais</td><td>31</td><td>35</td><td>3132909</td><td>Itamogi</td><td>NÃO</td><td>VIVO</td><td>1</td><td>1</td><td>1</td><td>null</td></tr><tr><td>Piauí</td><td>22</td><td>86</td><td>2205508</td><td>José de Freitas</td><td>NÃO</td><td>VIVO</td><td>2</td><td>2</td><td>1</td><td>null</td></tr><tr><td>Rio de Janeiro</td><td>33</td><td>21</td><td>3302700</td><td>Maricá</td><td>NÃO</td><td>TIM</td><td>17</td><td>19</td><td>23</td><td>11</td></tr><tr><td>Paraná</td><td>41</td><td>45</td><td>4110953</td><td>Itaipulândia</td><td>NÃO</td><td>TIM</td><td>3</td><td>4</td><td>4</td><td>null</td></tr><tr><td>Minas Gerais</td><td>31</td><td>33</td><td>3139508</td><td>Manhumirim</td><td>NÃO</td><td>CLARO</td><td>1</td><td>1</td><td>1</td><td>null</td></tr></tbody></table></div>"
      ]
     },
     "metadata": {
      "application/vnd.databricks.v1+output": {
       "addedWidgets": {},
       "aggData": [],
       "aggError": "",
       "aggOverflow": false,
       "aggSchema": [],
       "aggSeriesLimitReached": false,
       "aggType": "",
       "arguments": {},
       "columnCustomDisplayInfos": {},
       "data": [
        [
         "Goiás",
         52,
         64,
         5205901,
         "Corumbaíba",
         "NÃO",
         "CLARO",
         1,
         1,
         1,
         null
        ],
        [
         "Minas Gerais",
         31,
         31,
         3118106,
         "Congonhas do Norte",
         "NÃO",
         "CLARO",
         1,
         1,
         1,
         null
        ],
        [
         "Maranhão",
         21,
         98,
         2107506,
         "Paço do Lumiar",
         "NÃO",
         "BRISANET",
         null,
         null,
         1,
         1
        ],
        [
         "São Paulo",
         35,
         19,
         3509502,
         "Campinas",
         "NÃO",
         "TIM",
         99,
         168,
         221,
         163
        ],
        [
         "Bahia",
         29,
         77,
         2906105,
         "Canápolis",
         "NÃO",
         "VIVO",
         1,
         1,
         1,
         null
        ],
        [
         "Minas Gerais",
         31,
         35,
         3132909,
         "Itamogi",
         "NÃO",
         "VIVO",
         1,
         1,
         1,
         null
        ],
        [
         "Piauí",
         22,
         86,
         2205508,
         "José de Freitas",
         "NÃO",
         "VIVO",
         2,
         2,
         1,
         null
        ],
        [
         "Rio de Janeiro",
         33,
         21,
         3302700,
         "Maricá",
         "NÃO",
         "TIM",
         17,
         19,
         23,
         11
        ],
        [
         "Paraná",
         41,
         45,
         4110953,
         "Itaipulândia",
         "NÃO",
         "TIM",
         3,
         4,
         4,
         null
        ],
        [
         "Minas Gerais",
         31,
         33,
         3139508,
         "Manhumirim",
         "NÃO",
         "CLARO",
         1,
         1,
         1,
         null
        ]
       ],
       "datasetInfos": [],
       "dbfsResultPath": null,
       "isJsonSchema": true,
       "metadata": {},
       "overflow": false,
       "plotOptions": {
        "customPlotOptions": {},
        "displayType": "table",
        "pivotAggregation": null,
        "pivotColumns": null,
        "xColumns": null,
        "yColumns": null
       },
       "removedWidgets": [],
       "schema": [
        {
         "metadata": "{}",
         "name": "UF",
         "type": "\"string\""
        },
        {
         "metadata": "{}",
         "name": "COD_UF",
         "type": "\"long\""
        },
        {
         "metadata": "{}",
         "name": "COD_AREA",
         "type": "\"long\""
        },
        {
         "metadata": "{}",
         "name": "COD_IBGE",
         "type": "\"long\""
        },
        {
         "metadata": "{}",
         "name": "CIDADE",
         "type": "\"string\""
        },
        {
         "metadata": "{}",
         "name": "CAPITAL",
         "type": "\"string\""
        },
        {
         "metadata": "{}",
         "name": "PRESTADORA",
         "type": "\"string\""
        },
        {
         "metadata": "{}",
         "name": "TCN_2G",
         "type": "\"long\""
        },
        {
         "metadata": "{}",
         "name": "TCN_3G",
         "type": "\"long\""
        },
        {
         "metadata": "{}",
         "name": "TCN_4G",
         "type": "\"long\""
        },
        {
         "metadata": "{}",
         "name": "TCN_5G",
         "type": "\"long\""
        }
       ],
       "type": "table"
      }
     },
     "output_type": "display_data"
    }
   ],
   "source": [
    "%sql\n",
    "select * from l_gold.vw_erbs_cid\n",
    "limit 10;"
   ]
  },
  {
   "cell_type": "markdown",
   "metadata": {
    "application/vnd.databricks.v1+cell": {
     "cellMetadata": {
      "byteLimit": 2048000,
      "rowLimit": 10000
     },
     "inputWidgets": {},
     "nuid": "9a6f4215-b2c9-45a8-823d-e5afe27b118a",
     "showTitle": false,
     "tableResultSettingsMap": {},
     "title": ""
    }
   },
   "source": [
    "Criação da view Indicadores - Resultado do Plano de Melhoria de Qualidade divulgado pela Anatel\n",
    "Estaremos utilizando um recorte do período a partir do último semestre de 2024 em diante."
   ]
  },
  {
   "cell_type": "code",
   "execution_count": 0,
   "metadata": {
    "application/vnd.databricks.v1+cell": {
     "cellMetadata": {
      "byteLimit": 2048000,
      "implicitDf": true,
      "rowLimit": 10000
     },
     "inputWidgets": {},
     "nuid": "58b21bbf-4208-47b2-b431-bcf33719361a",
     "showTitle": false,
     "tableResultSettingsMap": {},
     "title": ""
    }
   },
   "outputs": [
    {
     "output_type": "display_data",
     "data": {
      "text/html": [
       "<style scoped>\n",
       "  .table-result-container {\n",
       "    max-height: 300px;\n",
       "    overflow: auto;\n",
       "  }\n",
       "  table, th, td {\n",
       "    border: 1px solid black;\n",
       "    border-collapse: collapse;\n",
       "  }\n",
       "  th, td {\n",
       "    padding: 5px;\n",
       "  }\n",
       "  th {\n",
       "    text-align: left;\n",
       "  }\n",
       "</style><div class='table-result-container'><table class='table-result'><thead style='background-color: white'><tr><th>num_affected_rows</th><th>num_inserted_rows</th></tr></thead><tbody></tbody></table></div>"
      ]
     },
     "metadata": {
      "application/vnd.databricks.v1+output": {
       "addedWidgets": {},
       "aggData": [],
       "aggError": "",
       "aggOverflow": false,
       "aggSchema": [],
       "aggSeriesLimitReached": false,
       "aggType": "",
       "arguments": {},
       "columnCustomDisplayInfos": {},
       "data": [],
       "datasetInfos": [],
       "dbfsResultPath": null,
       "isJsonSchema": true,
       "metadata": {},
       "overflow": false,
       "plotOptions": {
        "customPlotOptions": {},
        "displayType": "table",
        "pivotAggregation": null,
        "pivotColumns": null,
        "xColumns": null,
        "yColumns": null
       },
       "removedWidgets": [],
       "schema": [
        {
         "metadata": "{}",
         "name": "num_affected_rows",
         "type": "\"long\""
        },
        {
         "metadata": "{}",
         "name": "num_inserted_rows",
         "type": "\"long\""
        }
       ],
       "type": "table"
      }
     },
     "output_type": "display_data"
    }
   ],
   "source": [
    "%sql\n",
    "create or replace table l_gold.vw_indicadores as\n",
    "select \n",
    "MESDATPER, \n",
    "ind.ANO, ind.MES, ind.SERVICO,\n",
    "al.CN, ib.COD_IBGE, ib.UF, ib.COD_UF, ib.MUNICIPIO CIDADE, \n",
    "ind.IND1, ind.IND2, ind.IND3, ind.IND4, ind.IND5, ind.IND6, ind.IND7, ind.IND8,\n",
    "ind.NUMERO_MEDIDAS, ind.NUMERO_COLETORES, ind.VALIDADE_ESTATISTICA\n",
    "    FROM\n",
    "        l_silver.f_rqual_smp ind\n",
    "        join l_silver.d_ibge ib on ind.CODIGO_IBGE = ib.COD_IBGE\n",
    "        left join l_silver.d_arealocal al on ind.CODIGO_IBGE = al.COD_IBGE\n",
    "where mesdatper >= 202407\n",
    ";"
   ]
  },
  {
   "cell_type": "code",
   "execution_count": 0,
   "metadata": {
    "application/vnd.databricks.v1+cell": {
     "cellMetadata": {
      "byteLimit": 2048000,
      "implicitDf": true,
      "rowLimit": 10000
     },
     "inputWidgets": {},
     "nuid": "c11c54b4-65a4-4d88-a561-3effd290f605",
     "showTitle": false,
     "tableResultSettingsMap": {},
     "title": ""
    }
   },
   "outputs": [
    {
     "output_type": "display_data",
     "data": {
      "text/html": [
       "<style scoped>\n",
       "  .table-result-container {\n",
       "    max-height: 300px;\n",
       "    overflow: auto;\n",
       "  }\n",
       "  table, th, td {\n",
       "    border: 1px solid black;\n",
       "    border-collapse: collapse;\n",
       "  }\n",
       "  th, td {\n",
       "    padding: 5px;\n",
       "  }\n",
       "  th {\n",
       "    text-align: left;\n",
       "  }\n",
       "</style><div class='table-result-container'><table class='table-result'><thead style='background-color: white'><tr><th>MESDATPER</th><th>ANO</th><th>MES</th><th>SERVICO</th><th>CN</th><th>COD_IBGE</th><th>UF</th><th>COD_UF</th><th>CIDADE</th><th>IND1</th><th>IND2</th><th>IND3</th><th>IND4</th><th>IND5</th><th>IND6</th><th>IND7</th><th>IND8</th><th>NUMERO_MEDIDAS</th><th>NUMERO_COLETORES</th><th>VALIDADE_ESTATISTICA</th></tr></thead><tbody><tr><td>202409</td><td>2024</td><td>9</td><td>SMP</td><td>81</td><td>2612901</td><td>Pernambuco</td><td>26</td><td>São Benedito do Sul</td><td>99,8646</td><td>0,2129</td><td>99,4055</td><td>96,2962</td><td>95,5357</td><td>100,0000</td><td>98,2456</td><td>99,2083</td><td>108</td><td>43</td><td>0</td></tr><tr><td>202409</td><td>2024</td><td>9</td><td>SMP</td><td>81</td><td>2612901</td><td>Pernambuco</td><td>26</td><td>São Benedito do Sul</td><td>99,1936</td><td>0,8186</td><td>99,7317</td><td>89,8148</td><td>93,1034</td><td>91,3793</td><td>93,1034</td><td>99,7754</td><td>54</td><td>32</td><td>0</td></tr><tr><td>202409</td><td>2024</td><td>9</td><td>SMP</td><td>81</td><td>2613008</td><td>Pernambuco</td><td>26</td><td>São Bento do Una</td><td>99,7864</td><td>0,1249</td><td>99,8686</td><td>89,5626</td><td>85,9525</td><td>86,3013</td><td>93,5276</td><td>100,0000</td><td>5584</td><td>883</td><td>1</td></tr><tr><td>202409</td><td>2024</td><td>9</td><td>SMP</td><td>81</td><td>2613008</td><td>Pernambuco</td><td>26</td><td>São Bento do Una</td><td>99,6558</td><td>0,3329</td><td>99,8705</td><td>84,8356</td><td>94,6473</td><td>99,8110</td><td>90,0948</td><td>100,0000</td><td>1534</td><td>301</td><td>1</td></tr><tr><td>202409</td><td>2024</td><td>9</td><td>SMP</td><td>81</td><td>2613008</td><td>Pernambuco</td><td>26</td><td>São Bento do Una</td><td>99,8101</td><td>0,2501</td><td>99,8383</td><td>75,1263</td><td>87,9543</td><td>84,5275</td><td>94,4151</td><td>100,0000</td><td>882</td><td>237</td><td>1</td></tr><tr><td>202409</td><td>2024</td><td>9</td><td>SMP</td><td>81</td><td>2613107</td><td>Pernambuco</td><td>26</td><td>São Caitano</td><td>99,6959</td><td>0,5282</td><td>99,9023</td><td>93,1364</td><td>95,1798</td><td>99,1583</td><td>92,0553</td><td>99,1678</td><td>1253</td><td>540</td><td>1</td></tr><tr><td>202409</td><td>2024</td><td>9</td><td>SMP</td><td>81</td><td>2613107</td><td>Pernambuco</td><td>26</td><td>São Caitano</td><td>99,8430</td><td>0,2428</td><td>99,8697</td><td>91,8481</td><td>78,3738</td><td>84,4852</td><td>88,1503</td><td>100,0000</td><td>12838</td><td>1844</td><td>1</td></tr><tr><td>202409</td><td>2024</td><td>9</td><td>SMP</td><td>81</td><td>2613107</td><td>Pernambuco</td><td>26</td><td>São Caitano</td><td>99,4030</td><td>0,6194</td><td>98,8191</td><td>80,3088</td><td>88,0382</td><td>86,6028</td><td>92,3645</td><td>100,0000</td><td>387</td><td>212</td><td>1</td></tr><tr><td>202409</td><td>2024</td><td>9</td><td>SMP</td><td>87</td><td>2613206</td><td>Pernambuco</td><td>26</td><td>São João</td><td>99,8337</td><td>0,2338</td><td>99,9081</td><td>92,4534</td><td>96,9289</td><td>99,6803</td><td>89,5050</td><td>100,0000</td><td>1451</td><td>328</td><td>1</td></tr><tr><td>202409</td><td>2024</td><td>9</td><td>SMP</td><td>87</td><td>2613206</td><td>Pernambuco</td><td>26</td><td>São João</td><td>99,8423</td><td>0,1025</td><td>99,8145</td><td>96,9746</td><td>93,4693</td><td>91,6734</td><td>95,7551</td><td>100,0000</td><td>1220</td><td>244</td><td>1</td></tr></tbody></table></div>"
      ]
     },
     "metadata": {
      "application/vnd.databricks.v1+output": {
       "addedWidgets": {},
       "aggData": [],
       "aggError": "",
       "aggOverflow": false,
       "aggSchema": [],
       "aggSeriesLimitReached": false,
       "aggType": "",
       "arguments": {},
       "columnCustomDisplayInfos": {},
       "data": [
        [
         202409,
         2024,
         9,
         "SMP",
         81,
         2612901,
         "Pernambuco",
         26,
         "São Benedito do Sul",
         "99,8646",
         "0,2129",
         "99,4055",
         "96,2962",
         "95,5357",
         "100,0000",
         "98,2456",
         "99,2083",
         108,
         43,
         0
        ],
        [
         202409,
         2024,
         9,
         "SMP",
         81,
         2612901,
         "Pernambuco",
         26,
         "São Benedito do Sul",
         "99,1936",
         "0,8186",
         "99,7317",
         "89,8148",
         "93,1034",
         "91,3793",
         "93,1034",
         "99,7754",
         54,
         32,
         0
        ],
        [
         202409,
         2024,
         9,
         "SMP",
         81,
         2613008,
         "Pernambuco",
         26,
         "São Bento do Una",
         "99,7864",
         "0,1249",
         "99,8686",
         "89,5626",
         "85,9525",
         "86,3013",
         "93,5276",
         "100,0000",
         5584,
         883,
         1
        ],
        [
         202409,
         2024,
         9,
         "SMP",
         81,
         2613008,
         "Pernambuco",
         26,
         "São Bento do Una",
         "99,6558",
         "0,3329",
         "99,8705",
         "84,8356",
         "94,6473",
         "99,8110",
         "90,0948",
         "100,0000",
         1534,
         301,
         1
        ],
        [
         202409,
         2024,
         9,
         "SMP",
         81,
         2613008,
         "Pernambuco",
         26,
         "São Bento do Una",
         "99,8101",
         "0,2501",
         "99,8383",
         "75,1263",
         "87,9543",
         "84,5275",
         "94,4151",
         "100,0000",
         882,
         237,
         1
        ],
        [
         202409,
         2024,
         9,
         "SMP",
         81,
         2613107,
         "Pernambuco",
         26,
         "São Caitano",
         "99,6959",
         "0,5282",
         "99,9023",
         "93,1364",
         "95,1798",
         "99,1583",
         "92,0553",
         "99,1678",
         1253,
         540,
         1
        ],
        [
         202409,
         2024,
         9,
         "SMP",
         81,
         2613107,
         "Pernambuco",
         26,
         "São Caitano",
         "99,8430",
         "0,2428",
         "99,8697",
         "91,8481",
         "78,3738",
         "84,4852",
         "88,1503",
         "100,0000",
         12838,
         1844,
         1
        ],
        [
         202409,
         2024,
         9,
         "SMP",
         81,
         2613107,
         "Pernambuco",
         26,
         "São Caitano",
         "99,4030",
         "0,6194",
         "98,8191",
         "80,3088",
         "88,0382",
         "86,6028",
         "92,3645",
         "100,0000",
         387,
         212,
         1
        ],
        [
         202409,
         2024,
         9,
         "SMP",
         87,
         2613206,
         "Pernambuco",
         26,
         "São João",
         "99,8337",
         "0,2338",
         "99,9081",
         "92,4534",
         "96,9289",
         "99,6803",
         "89,5050",
         "100,0000",
         1451,
         328,
         1
        ],
        [
         202409,
         2024,
         9,
         "SMP",
         87,
         2613206,
         "Pernambuco",
         26,
         "São João",
         "99,8423",
         "0,1025",
         "99,8145",
         "96,9746",
         "93,4693",
         "91,6734",
         "95,7551",
         "100,0000",
         1220,
         244,
         1
        ]
       ],
       "datasetInfos": [],
       "dbfsResultPath": null,
       "isJsonSchema": true,
       "metadata": {},
       "overflow": false,
       "plotOptions": {
        "customPlotOptions": {},
        "displayType": "table",
        "pivotAggregation": null,
        "pivotColumns": null,
        "xColumns": null,
        "yColumns": null
       },
       "removedWidgets": [],
       "schema": [
        {
         "metadata": "{}",
         "name": "MESDATPER",
         "type": "\"integer\""
        },
        {
         "metadata": "{}",
         "name": "ANO",
         "type": "\"long\""
        },
        {
         "metadata": "{}",
         "name": "MES",
         "type": "\"long\""
        },
        {
         "metadata": "{}",
         "name": "SERVICO",
         "type": "\"string\""
        },
        {
         "metadata": "{}",
         "name": "CN",
         "type": "\"long\""
        },
        {
         "metadata": "{}",
         "name": "COD_IBGE",
         "type": "\"long\""
        },
        {
         "metadata": "{}",
         "name": "UF",
         "type": "\"string\""
        },
        {
         "metadata": "{}",
         "name": "COD_UF",
         "type": "\"long\""
        },
        {
         "metadata": "{}",
         "name": "CIDADE",
         "type": "\"string\""
        },
        {
         "metadata": "{}",
         "name": "IND1",
         "type": "\"string\""
        },
        {
         "metadata": "{}",
         "name": "IND2",
         "type": "\"string\""
        },
        {
         "metadata": "{}",
         "name": "IND3",
         "type": "\"string\""
        },
        {
         "metadata": "{}",
         "name": "IND4",
         "type": "\"string\""
        },
        {
         "metadata": "{}",
         "name": "IND5",
         "type": "\"string\""
        },
        {
         "metadata": "{}",
         "name": "IND6",
         "type": "\"string\""
        },
        {
         "metadata": "{}",
         "name": "IND7",
         "type": "\"string\""
        },
        {
         "metadata": "{}",
         "name": "IND8",
         "type": "\"string\""
        },
        {
         "metadata": "{}",
         "name": "NUMERO_MEDIDAS",
         "type": "\"long\""
        },
        {
         "metadata": "{}",
         "name": "NUMERO_COLETORES",
         "type": "\"long\""
        },
        {
         "metadata": "{}",
         "name": "VALIDADE_ESTATISTICA",
         "type": "\"integer\""
        }
       ],
       "type": "table"
      }
     },
     "output_type": "display_data"
    }
   ],
   "source": [
    "%sql\n",
    "select * from l_gold.vw_indicadores\n",
    "where mesdatper >= 202407\n",
    "limit 10;"
   ]
  }
 ],
 "metadata": {
  "application/vnd.databricks.v1+notebook": {
   "computePreferences": null,
   "dashboards": [],
   "environmentMetadata": {
    "base_environment": "",
    "environment_version": "1"
   },
   "inputWidgetPreferences": null,
   "language": "python",
   "notebookMetadata": {
    "mostRecentlyExecutedCommandWithImplicitDF": {
     "commandId": 4124856036723074,
     "dataframes": [
      "_sqldf"
     ]
    },
    "pythonIndentUnit": 4
   },
   "notebookName": "mvp_anatel_smp",
   "widgets": {}
  }
 },
 "nbformat": 4,
 "nbformat_minor": 0
}